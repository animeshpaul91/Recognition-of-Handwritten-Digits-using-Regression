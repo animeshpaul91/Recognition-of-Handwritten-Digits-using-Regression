{
 "cells": [
  {
   "cell_type": "markdown",
   "metadata": {},
   "source": [
    "<font size=4><b>Import necessary Libraries</b></font>"
   ]
  },
  {
   "cell_type": "code",
   "execution_count": 1,
   "metadata": {},
   "outputs": [],
   "source": [
    "import pandas as pd\n",
    "import numpy as np\n",
    "import os\n",
    "import random\n",
    "import time\n",
    "import csv\n",
    "import matplotlib.pyplot\n",
    "from matplotlib import pyplot as plt\n",
    "import math\n",
    "from sklearn.cluster import KMeans # Used for K-Means Clustering"
   ]
  },
  {
   "cell_type": "markdown",
   "metadata": {},
   "source": [
    "<font size=4><b>List of Input CSV Source Files</b></font>"
   ]
  },
  {
   "cell_type": "code",
   "execution_count": 2,
   "metadata": {},
   "outputs": [
    {
     "name": "stdout",
     "output_type": "stream",
     "text": [
      "['.ipynb_checkpoints', 'GSC_CFeatures.csv', 'GSC_CTargets.csv', 'GSC_diffn_pairs.csv', 'GSC_features.csv', 'GSC_same_pairs.csv', 'GSC_SFeatures.csv', 'GSC_STargets.csv', 'HOF_diffn_pairs.csv', 'HOF_features.csv', 'HOF_same_pairs.csv', 'HO_CFeatures.csv', 'HO_CTargets.csv', 'HO_SFeatures.csv', 'HO_STargets.csv']\n"
     ]
    }
   ],
   "source": [
    "img_ids = os.listdir('./Inputs')\n",
    "print(img_ids) #List of Input files"
   ]
  },
  {
   "cell_type": "markdown",
   "metadata": {},
   "source": [
    "<font size=4><b>Human Observed Dataset Creation</b></font>"
   ]
  },
  {
   "cell_type": "code",
   "execution_count": 3,
   "metadata": {},
   "outputs": [],
   "source": [
    "def create_HOF_dataset(same, diff, features):\n",
    "\n",
    "    #p = 0.004300000 #0.0043% of lines will be read randomly in HOF Dataset\n",
    "    p = 0.002800000 #0.0028% of lines will be read randomly in HOF Dataset\n",
    "    df1 = pd.read_csv(same)\n",
    "    df2 = pd.read_csv(diff, header=0, skiprows=lambda i: i>0 and random.random() > p)\n",
    "    df3 = pd.concat([df1,df2]) #HOF Merged\n",
    "    df = pd.read_csv(features) #Read HO Features\n",
    "    df4 = df3.join(df.set_index('img_id'), on='img_id_A')\n",
    "    df6 = df4.iloc[:,3:12].copy() #Stores a set of first image's features only\n",
    "    \n",
    "    df7 = df3.join(df.set_index('img_id'), on='img_id_B')\n",
    "    df8 = df7.iloc[:,3:12].copy() #Stores a set of second image's features only\n",
    "    \n",
    "    df9 = df6.sub(df8, fill_value=0)\n",
    "    df9 = df9.abs()\n",
    "    df10 = pd.concat([df3, df9], axis=1) #df10 is the complete subtracted dataset\n",
    "    df5 = df4.join(df.set_index('img_id'), on='img_id_B',lsuffix='_A', rsuffix='_B') #df5 is the complete concatenated dataset\n",
    "    \n",
    "    df5 = df5.sample(frac=1) #Shuffle Concatenated Dataset\n",
    "    df10 = df10.sample(frac=1) #Shuffle Subtracted Dataset\n",
    "    \n",
    "    display(df5.head())\n",
    "    print(df5.shape)\n",
    "    display(df10.head())\n",
    "    print(df10.shape)\n",
    "    \n",
    "    T_C = df5['target']\n",
    "    T_S = df10['target']\n",
    "    X_C = df5[df5.columns[3:21]]\n",
    "    X_S = df10[df10.columns[3:12]]\n",
    "\n",
    "    T_C.to_csv('./Inputs/HO_CTargets.csv', index=False, header=False)\n",
    "    T_S.to_csv('./Inputs/HO_STargets.csv', index=False, header=False)\n",
    "    X_C.to_csv('./Inputs/HO_CFeatures.csv', index=False, header=False)\n",
    "    X_S.to_csv('./Inputs/HO_SFeatures.csv', index=False, header=False)"
   ]
  },
  {
   "cell_type": "markdown",
   "metadata": {},
   "source": [
    "<font size=4><b>GSC Dataset Creation</b></font>"
   ]
  },
  {
   "cell_type": "code",
   "execution_count": 4,
   "metadata": {},
   "outputs": [],
   "source": [
    "def create_GSC_dataset(same, diff, features):\n",
    "\n",
    "    q = 0.09380394 #0.9380% of lines will be read randomly in GSC Dataset\n",
    "\n",
    "    df1 = pd.read_csv(same)\n",
    "    df2 = pd.read_csv(diff,header=0,skiprows=lambda i: i>0 and random.random() > q)\n",
    "    df3 = pd.concat([df1,df2]) #GSC Merged\n",
    "    df = pd.read_csv(features) #Read GSC Features\n",
    "    \n",
    "    df4 = df3.join(df.set_index('img_id'), on='img_id_A')\n",
    "    df6 = df4.iloc[:,3:515].copy() #Stores a set of first image's features only\n",
    "    \n",
    "    df7 = df3.join(df.set_index('img_id'), on='img_id_B')\n",
    "    df8 = df7.iloc[:,3:515].copy() #Stores a set of second image's features only\n",
    "    \n",
    "    df9 = df6.sub(df8, fill_value=0)\n",
    "    df9 = df9.abs()\n",
    "    df10 = pd.concat([df3, df9], axis=1) #df10 is the complete subtracted dataset\n",
    "    #df10 = df10.loc[:, (df10 != 0).any(axis=0)] #Delete Zero Columns\n",
    "    df5 = df4.join(df.set_index('img_id'), on='img_id_B',lsuffix='_A', rsuffix='_B') #df5 is the complete concatenated dataset\n",
    "    #df5 = df5.loc[:, (df5 != 0).any(axis=0)] #Delete Zero Columns\n",
    "    df5 = df5.sample(frac=1) #Shuffle Concatenated Dataset\n",
    "    df10 = df10.sample(frac=1) #Shuffle Subtracted Dataset\n",
    "    \n",
    "    display(df5.head())\n",
    "    print(df5.shape)\n",
    "    display(df10.head())\n",
    "    print(df10.shape)\n",
    "    \n",
    "    T_C = df5['target']\n",
    "    T_S = df10['target']\n",
    "    X_C = df5[df5.columns[3:1027]]\n",
    "    X_S = df10[df10.columns[3:515]]\n",
    "\n",
    "    T_C.to_csv('./Inputs/GSC_CTargets.csv', index=False, header=False)\n",
    "    T_S.to_csv('./Inputs/GSC_STargets.csv', index=False, header=False)\n",
    "    X_C.to_csv('./Inputs/GSC_CFeatures.csv', index=False, header=False)\n",
    "    X_S.to_csv('./Inputs/GSC_SFeatures.csv', index=False, header=False)"
   ]
  },
  {
   "cell_type": "markdown",
   "metadata": {},
   "source": [
    "### Partition Data, Get Design Matrix"
   ]
  },
  {
   "cell_type": "code",
   "execution_count": 5,
   "metadata": {},
   "outputs": [],
   "source": [
    "def GetTargetVector(filePath):\n",
    "    t = []\n",
    "    with open(filePath, 'r') as f:\n",
    "        reader = csv.reader(f) #Loads Expected Target values from target output file\n",
    "        for row in reader:  \n",
    "            t.append(int(row[0]))\n",
    "    #print(\"Raw Training Generated..\")\n",
    "    #print(t)\n",
    "    return t\n",
    "\n",
    "def GenerateRawData(filePath):    \n",
    "    dataMatrix = [] \n",
    "    with open(filePath, 'r') as fi:\n",
    "        reader = csv.reader(fi)\n",
    "        for row in reader:\n",
    "            dataRow = []\n",
    "            for column in row:\n",
    "                dataRow.append(float(column)) #Loads the rest of the training data\n",
    "            dataMatrix.append(dataRow)   \n",
    "    \n",
    "    dataMatrix = np.transpose(dataMatrix)     \n",
    "    #print (\"Data Matrix Generated..\")\n",
    "    #print(datamatrix)\n",
    "    return dataMatrix\n",
    "\n",
    "def GenerateTrainingTarget(rawTraining,TrainingPercent = 80):\n",
    "    TrainingLen = int(math.ceil(len(rawTraining)*(TrainingPercent*0.01))) #Selects 80% of targets for training\n",
    "    t           = rawTraining[:TrainingLen]\n",
    "    #print(str(TrainingPercent) + \"% Training Target Generated..\")\n",
    "    return t\n",
    "\n",
    "def GenerateTrainingDataMatrix(rawData, TrainingPercent = 80):\n",
    "    T_len = int(math.ceil(len(rawData[0])*0.01*TrainingPercent)) #Selects 80% of data for training\n",
    "    d2 = rawData[:,0:T_len]\n",
    "    #print(str(TrainingPercent) + \"% Training Data Generated..\")\n",
    "    return d2\n",
    "\n",
    "#Training targets and data generated\n",
    "\n",
    "def GenerateValData(rawData, ValPercent, TrainingCount): \n",
    "    valSize = int(math.ceil(len(rawData[0])*ValPercent*0.01)) #Selects 20% of data for validation\n",
    "    V_End = TrainingCount + valSize\n",
    "    dataMatrix = rawData[:,TrainingCount+1:V_End]\n",
    "    #print (str(ValPercent) + \"% Val Data Generated..\")  \n",
    "    return dataMatrix\n",
    "\n",
    "#Validation data generated\n",
    "\n",
    "def GenerateValTargetVector(rawData, ValPercent, TrainingCount): \n",
    "    valSize = int(math.ceil(len(rawData)*ValPercent*0.01)) #Selects 20% of targets for validation\n",
    "    V_End = TrainingCount + valSize\n",
    "    t =rawData[TrainingCount+1:V_End]\n",
    "    #print (str(ValPercent) + \"% Val Target Data Generated..\")\n",
    "    return t\n",
    "\n",
    "#Validation targets generated\n",
    "\n",
    "def GenerateBigSigma(Data, MuMatrix,TrainingPercent): #Covariance Matrix\n",
    "    BigSigma    = np.zeros((len(Data),len(Data)))\n",
    "    DataT       = np.transpose(Data)\n",
    "    TrainingLen = math.ceil(len(DataT)*(TrainingPercent*0.01))        \n",
    "    varVect     = []\n",
    "    for i in range(0,len(DataT[0])):\n",
    "        vct = []\n",
    "        for j in range(0,int(TrainingLen)):\n",
    "            vct.append(Data[i][j])    \n",
    "        varVect.append(np.var(vct)) #Calculates variance between data features and stores in list \n",
    "    \n",
    "    for j in range(len(Data)):\n",
    "        BigSigma[j][j] = varVect[j] #Stores in diagonal positions only. Rest are assigned 0\n",
    "    ##print (\"BigSigma Generated..\")\n",
    "    return BigSigma\n",
    "\n",
    "def GetScalar(DataRow,MuRow, BigSigInv):  \n",
    "    R = np.subtract(DataRow,MuRow)\n",
    "    T = np.dot(BigSigInv,np.transpose(R))  \n",
    "    L = np.dot(R,T)\n",
    "    return L #For Computation of Phi this component is used\n",
    "\n",
    "def GetRadialBasisOut(DataRow,MuRow, BigSigInv):    \n",
    "    phi_x = math.exp(-0.5*GetScalar(DataRow,MuRow,BigSigInv))\n",
    "    return phi_x #Phi Computed for a vector\n",
    "\n",
    "def GetPhiMatrix(Data, MuMatrix, BigSigma, TrainingPercent = 80):\n",
    "    DataT = np.transpose(Data)\n",
    "    TrainingLen = math.ceil(len(DataT)*(TrainingPercent*0.01))         \n",
    "    PHI = np.zeros((int(TrainingLen),len(MuMatrix))) \n",
    "    BigSigInv = np.linalg.inv(BigSigma)\n",
    "    for  C in range(0,len(MuMatrix)):\n",
    "        for R in range(0,int(TrainingLen)):\n",
    "            PHI[R][C] = GetRadialBasisOut(DataT[R], MuMatrix[C], BigSigInv)\n",
    "    #print (\"PHI Generated..\")\n",
    "    return PHI #Complete Phi Generated\n",
    "\n",
    "def GetValTest(VAL_PHI,W):\n",
    "    Y = np.dot(W,np.transpose(VAL_PHI))\n",
    "    ##print (\"Test Out Generated..\")\n",
    "    return Y #Return Y output for Validation data\n",
    "\n",
    "def GetErms(VAL_TEST_OUT,ValDataAct):\n",
    "    sum = 0.0\n",
    "    t=0\n",
    "    accuracy = 0.0\n",
    "    counter = 0\n",
    "    val = 0.0\n",
    "    for i in range (0,len(VAL_TEST_OUT)):\n",
    "        sum = sum + math.pow((ValDataAct[i] - VAL_TEST_OUT[i]),2)\n",
    "        if(int(np.around(VAL_TEST_OUT[i], 0)) == ValDataAct[i]):\n",
    "            counter+=1\n",
    "    accuracy = (float((counter*100))/float(len(VAL_TEST_OUT)))\n",
    "    ##print (\"Accuracy Generated..\")\n",
    "    ##print (\"Validation E_RMS : \" + str(math.sqrt(sum/len(VAL_TEST_OUT))))\n",
    "    return (str(accuracy) + ',' +  str(math.sqrt(sum/len(VAL_TEST_OUT)))) #Root Mean Square Accuracy and Error generated"
   ]
  },
  {
   "cell_type": "markdown",
   "metadata": {},
   "source": [
    "### Functions for Logistic Regression"
   ]
  },
  {
   "cell_type": "code",
   "execution_count": 6,
   "metadata": {},
   "outputs": [],
   "source": [
    "def sigmoid(x):\n",
    "    return 1/(1 + np.exp(-x))"
   ]
  },
  {
   "cell_type": "code",
   "execution_count": 7,
   "metadata": {},
   "outputs": [],
   "source": [
    "def cost(w, x, y):\n",
    "    w = np.matrix(w)\n",
    "    x = np.matrix(x)\n",
    "    y = np.matrix(y)\n",
    "    first = np.multiply(-y, np.log(sigmoid(x * w.T)))\n",
    "    second = np.multiply((1 - y), np.log(1 - sigmoid(x * w.T)))\n",
    "    return np.sum(first - second) / (len(x))"
   ]
  },
  {
   "cell_type": "code",
   "execution_count": 8,
   "metadata": {},
   "outputs": [],
   "source": [
    "def gradient(w, x, y):\n",
    "    w = np.matrix(w)\n",
    "    x = np.matrix(x)\n",
    "    y = np.matrix(y)\n",
    "    \n",
    "    par = int(w.ravel().shape[1]) #Number of features\n",
    "    grad = np.zeros(par)\n",
    "    \n",
    "    error = sigmoid(x * w.T) - y.T #Calculate nx1 Error Matrix\n",
    "    \n",
    "    for i in range(0,par):\n",
    "        term = np.multiply(error, x[:,i])\n",
    "        grad[i] = np.sum(term)/len(x) #Return Average of n weights computed across all rows for one feature vector.\n",
    "        \n",
    "    return grad"
   ]
  },
  {
   "cell_type": "markdown",
   "metadata": {},
   "source": [
    "<font size=4><b>Main Starts Here</b></font>"
   ]
  },
  {
   "cell_type": "code",
   "execution_count": 43,
   "metadata": {},
   "outputs": [
    {
     "data": {
      "text/html": [
       "<div>\n",
       "<style scoped>\n",
       "    .dataframe tbody tr th:only-of-type {\n",
       "        vertical-align: middle;\n",
       "    }\n",
       "\n",
       "    .dataframe tbody tr th {\n",
       "        vertical-align: top;\n",
       "    }\n",
       "\n",
       "    .dataframe thead th {\n",
       "        text-align: right;\n",
       "    }\n",
       "</style>\n",
       "<table border=\"1\" class=\"dataframe\">\n",
       "  <thead>\n",
       "    <tr style=\"text-align: right;\">\n",
       "      <th></th>\n",
       "      <th>img_id_A</th>\n",
       "      <th>img_id_B</th>\n",
       "      <th>target</th>\n",
       "      <th>f1_A</th>\n",
       "      <th>f2_A</th>\n",
       "      <th>f3_A</th>\n",
       "      <th>f4_A</th>\n",
       "      <th>f5_A</th>\n",
       "      <th>f6_A</th>\n",
       "      <th>f7_A</th>\n",
       "      <th>...</th>\n",
       "      <th>f9_A</th>\n",
       "      <th>f1_B</th>\n",
       "      <th>f2_B</th>\n",
       "      <th>f3_B</th>\n",
       "      <th>f4_B</th>\n",
       "      <th>f5_B</th>\n",
       "      <th>f6_B</th>\n",
       "      <th>f7_B</th>\n",
       "      <th>f8_B</th>\n",
       "      <th>f9_B</th>\n",
       "    </tr>\n",
       "  </thead>\n",
       "  <tbody>\n",
       "    <tr>\n",
       "      <th>199</th>\n",
       "      <td>0414a</td>\n",
       "      <td>0414b</td>\n",
       "      <td>1</td>\n",
       "      <td>3</td>\n",
       "      <td>2</td>\n",
       "      <td>1</td>\n",
       "      <td>0</td>\n",
       "      <td>2</td>\n",
       "      <td>2</td>\n",
       "      <td>0</td>\n",
       "      <td>...</td>\n",
       "      <td>2</td>\n",
       "      <td>1</td>\n",
       "      <td>1</td>\n",
       "      <td>1</td>\n",
       "      <td>0</td>\n",
       "      <td>2</td>\n",
       "      <td>1</td>\n",
       "      <td>1</td>\n",
       "      <td>1</td>\n",
       "      <td>2</td>\n",
       "    </tr>\n",
       "    <tr>\n",
       "      <th>241</th>\n",
       "      <td>0458c</td>\n",
       "      <td>0458b</td>\n",
       "      <td>1</td>\n",
       "      <td>3</td>\n",
       "      <td>0</td>\n",
       "      <td>1</td>\n",
       "      <td>0</td>\n",
       "      <td>2</td>\n",
       "      <td>2</td>\n",
       "      <td>0</td>\n",
       "      <td>...</td>\n",
       "      <td>2</td>\n",
       "      <td>3</td>\n",
       "      <td>2</td>\n",
       "      <td>1</td>\n",
       "      <td>3</td>\n",
       "      <td>2</td>\n",
       "      <td>2</td>\n",
       "      <td>1</td>\n",
       "      <td>3</td>\n",
       "      <td>2</td>\n",
       "    </tr>\n",
       "    <tr>\n",
       "      <th>582</th>\n",
       "      <td>1360a</td>\n",
       "      <td>1360c</td>\n",
       "      <td>1</td>\n",
       "      <td>3</td>\n",
       "      <td>1</td>\n",
       "      <td>0</td>\n",
       "      <td>2</td>\n",
       "      <td>2</td>\n",
       "      <td>2</td>\n",
       "      <td>0</td>\n",
       "      <td>...</td>\n",
       "      <td>2</td>\n",
       "      <td>0</td>\n",
       "      <td>1</td>\n",
       "      <td>1</td>\n",
       "      <td>2</td>\n",
       "      <td>1</td>\n",
       "      <td>2</td>\n",
       "      <td>1</td>\n",
       "      <td>1</td>\n",
       "      <td>1</td>\n",
       "    </tr>\n",
       "    <tr>\n",
       "      <th>71</th>\n",
       "      <td>1432c</td>\n",
       "      <td>0404c</td>\n",
       "      <td>0</td>\n",
       "      <td>2</td>\n",
       "      <td>2</td>\n",
       "      <td>1</td>\n",
       "      <td>0</td>\n",
       "      <td>2</td>\n",
       "      <td>2</td>\n",
       "      <td>0</td>\n",
       "      <td>...</td>\n",
       "      <td>2</td>\n",
       "      <td>0</td>\n",
       "      <td>2</td>\n",
       "      <td>1</td>\n",
       "      <td>3</td>\n",
       "      <td>2</td>\n",
       "      <td>2</td>\n",
       "      <td>0</td>\n",
       "      <td>4</td>\n",
       "      <td>2</td>\n",
       "    </tr>\n",
       "    <tr>\n",
       "      <th>344</th>\n",
       "      <td>1090c</td>\n",
       "      <td>1335c</td>\n",
       "      <td>0</td>\n",
       "      <td>0</td>\n",
       "      <td>0</td>\n",
       "      <td>1</td>\n",
       "      <td>3</td>\n",
       "      <td>2</td>\n",
       "      <td>2</td>\n",
       "      <td>0</td>\n",
       "      <td>...</td>\n",
       "      <td>2</td>\n",
       "      <td>2</td>\n",
       "      <td>1</td>\n",
       "      <td>1</td>\n",
       "      <td>3</td>\n",
       "      <td>2</td>\n",
       "      <td>2</td>\n",
       "      <td>2</td>\n",
       "      <td>1</td>\n",
       "      <td>1</td>\n",
       "    </tr>\n",
       "  </tbody>\n",
       "</table>\n",
       "<p>5 rows × 21 columns</p>\n",
       "</div>"
      ],
      "text/plain": [
       "    img_id_A img_id_B  target  f1_A  f2_A  f3_A  f4_A  f5_A  f6_A  f7_A  ...   \\\n",
       "199    0414a    0414b       1     3     2     1     0     2     2     0  ...    \n",
       "241    0458c    0458b       1     3     0     1     0     2     2     0  ...    \n",
       "582    1360a    1360c       1     3     1     0     2     2     2     0  ...    \n",
       "71     1432c    0404c       0     2     2     1     0     2     2     0  ...    \n",
       "344    1090c    1335c       0     0     0     1     3     2     2     0  ...    \n",
       "\n",
       "     f9_A  f1_B  f2_B  f3_B  f4_B  f5_B  f6_B  f7_B  f8_B  f9_B  \n",
       "199     2     1     1     1     0     2     1     1     1     2  \n",
       "241     2     3     2     1     3     2     2     1     3     2  \n",
       "582     2     0     1     1     2     1     2     1     1     1  \n",
       "71      2     0     2     1     3     2     2     0     4     2  \n",
       "344     2     2     1     1     3     2     2     2     1     1  \n",
       "\n",
       "[5 rows x 21 columns]"
      ]
     },
     "metadata": {},
     "output_type": "display_data"
    },
    {
     "name": "stdout",
     "output_type": "stream",
     "text": [
      "(1644, 21)\n"
     ]
    },
    {
     "data": {
      "text/html": [
       "<div>\n",
       "<style scoped>\n",
       "    .dataframe tbody tr th:only-of-type {\n",
       "        vertical-align: middle;\n",
       "    }\n",
       "\n",
       "    .dataframe tbody tr th {\n",
       "        vertical-align: top;\n",
       "    }\n",
       "\n",
       "    .dataframe thead th {\n",
       "        text-align: right;\n",
       "    }\n",
       "</style>\n",
       "<table border=\"1\" class=\"dataframe\">\n",
       "  <thead>\n",
       "    <tr style=\"text-align: right;\">\n",
       "      <th></th>\n",
       "      <th>img_id_A</th>\n",
       "      <th>img_id_B</th>\n",
       "      <th>target</th>\n",
       "      <th>f1</th>\n",
       "      <th>f2</th>\n",
       "      <th>f3</th>\n",
       "      <th>f4</th>\n",
       "      <th>f5</th>\n",
       "      <th>f6</th>\n",
       "      <th>f7</th>\n",
       "      <th>f8</th>\n",
       "      <th>f9</th>\n",
       "    </tr>\n",
       "  </thead>\n",
       "  <tbody>\n",
       "    <tr>\n",
       "      <th>735</th>\n",
       "      <td>1358b</td>\n",
       "      <td>1152c</td>\n",
       "      <td>0</td>\n",
       "      <td>3</td>\n",
       "      <td>4</td>\n",
       "      <td>1</td>\n",
       "      <td>0</td>\n",
       "      <td>0</td>\n",
       "      <td>1</td>\n",
       "      <td>1</td>\n",
       "      <td>0</td>\n",
       "      <td>1</td>\n",
       "    </tr>\n",
       "    <tr>\n",
       "      <th>66</th>\n",
       "      <td>1518c</td>\n",
       "      <td>1518a</td>\n",
       "      <td>1</td>\n",
       "      <td>0</td>\n",
       "      <td>1</td>\n",
       "      <td>0</td>\n",
       "      <td>3</td>\n",
       "      <td>0</td>\n",
       "      <td>1</td>\n",
       "      <td>0</td>\n",
       "      <td>0</td>\n",
       "      <td>0</td>\n",
       "    </tr>\n",
       "    <tr>\n",
       "      <th>227</th>\n",
       "      <td>1424a</td>\n",
       "      <td>1554a</td>\n",
       "      <td>0</td>\n",
       "      <td>1</td>\n",
       "      <td>3</td>\n",
       "      <td>0</td>\n",
       "      <td>2</td>\n",
       "      <td>0</td>\n",
       "      <td>1</td>\n",
       "      <td>1</td>\n",
       "      <td>1</td>\n",
       "      <td>0</td>\n",
       "    </tr>\n",
       "    <tr>\n",
       "      <th>835</th>\n",
       "      <td>0585b</td>\n",
       "      <td>0540c</td>\n",
       "      <td>0</td>\n",
       "      <td>1</td>\n",
       "      <td>0</td>\n",
       "      <td>2</td>\n",
       "      <td>1</td>\n",
       "      <td>2</td>\n",
       "      <td>1</td>\n",
       "      <td>1</td>\n",
       "      <td>1</td>\n",
       "      <td>0</td>\n",
       "    </tr>\n",
       "    <tr>\n",
       "      <th>91</th>\n",
       "      <td>0571b</td>\n",
       "      <td>0571a</td>\n",
       "      <td>1</td>\n",
       "      <td>2</td>\n",
       "      <td>3</td>\n",
       "      <td>0</td>\n",
       "      <td>3</td>\n",
       "      <td>0</td>\n",
       "      <td>1</td>\n",
       "      <td>0</td>\n",
       "      <td>1</td>\n",
       "      <td>0</td>\n",
       "    </tr>\n",
       "  </tbody>\n",
       "</table>\n",
       "</div>"
      ],
      "text/plain": [
       "    img_id_A img_id_B  target  f1  f2  f3  f4  f5  f6  f7  f8  f9\n",
       "735    1358b    1152c       0   3   4   1   0   0   1   1   0   1\n",
       "66     1518c    1518a       1   0   1   0   3   0   1   0   0   0\n",
       "227    1424a    1554a       0   1   3   0   2   0   1   1   1   0\n",
       "835    0585b    0540c       0   1   0   2   1   2   1   1   1   0\n",
       "91     0571b    0571a       1   2   3   0   3   0   1   0   1   0"
      ]
     },
     "metadata": {},
     "output_type": "display_data"
    },
    {
     "name": "stdout",
     "output_type": "stream",
     "text": [
      "(1644, 12)\n",
      "--- 0.6619856357574463 seconds ---\n"
     ]
    }
   ],
   "source": [
    "start_time = time.time()\n",
    "create_HOF_dataset('./Inputs/HOF_same_pairs.csv', './Inputs/HOF_diffn_pairs.csv', './Inputs/HOF_features.csv')\n",
    "#On every Run, the order of the rows in the Dataset is randomized (different). This causes a different split in data.\n",
    "print(\"--- %s seconds ---\" % (time.time() - start_time))"
   ]
  },
  {
   "cell_type": "code",
   "execution_count": 16,
   "metadata": {},
   "outputs": [
    {
     "data": {
      "text/html": [
       "<div>\n",
       "<style scoped>\n",
       "    .dataframe tbody tr th:only-of-type {\n",
       "        vertical-align: middle;\n",
       "    }\n",
       "\n",
       "    .dataframe tbody tr th {\n",
       "        vertical-align: top;\n",
       "    }\n",
       "\n",
       "    .dataframe thead th {\n",
       "        text-align: right;\n",
       "    }\n",
       "</style>\n",
       "<table border=\"1\" class=\"dataframe\">\n",
       "  <thead>\n",
       "    <tr style=\"text-align: right;\">\n",
       "      <th></th>\n",
       "      <th>img_id_A</th>\n",
       "      <th>img_id_B</th>\n",
       "      <th>target</th>\n",
       "      <th>f1_A</th>\n",
       "      <th>f2_A</th>\n",
       "      <th>f3_A</th>\n",
       "      <th>f4_A</th>\n",
       "      <th>f5_A</th>\n",
       "      <th>f6_A</th>\n",
       "      <th>f7_A</th>\n",
       "      <th>...</th>\n",
       "      <th>f503_B</th>\n",
       "      <th>f504_B</th>\n",
       "      <th>f505_B</th>\n",
       "      <th>f506_B</th>\n",
       "      <th>f507_B</th>\n",
       "      <th>f508_B</th>\n",
       "      <th>f509_B</th>\n",
       "      <th>f510_B</th>\n",
       "      <th>f511_B</th>\n",
       "      <th>f512_B</th>\n",
       "    </tr>\n",
       "  </thead>\n",
       "  <tbody>\n",
       "    <tr>\n",
       "      <th>38019</th>\n",
       "      <td>0828b_num1.png</td>\n",
       "      <td>0828c_num2.png</td>\n",
       "      <td>1</td>\n",
       "      <td>0</td>\n",
       "      <td>0</td>\n",
       "      <td>0</td>\n",
       "      <td>0</td>\n",
       "      <td>0</td>\n",
       "      <td>0</td>\n",
       "      <td>0</td>\n",
       "      <td>...</td>\n",
       "      <td>0</td>\n",
       "      <td>0</td>\n",
       "      <td>0</td>\n",
       "      <td>0</td>\n",
       "      <td>0</td>\n",
       "      <td>0</td>\n",
       "      <td>0</td>\n",
       "      <td>0</td>\n",
       "      <td>0</td>\n",
       "      <td>0</td>\n",
       "    </tr>\n",
       "    <tr>\n",
       "      <th>20954</th>\n",
       "      <td>0471b_num2.png</td>\n",
       "      <td>0471c_num1.png</td>\n",
       "      <td>1</td>\n",
       "      <td>0</td>\n",
       "      <td>0</td>\n",
       "      <td>0</td>\n",
       "      <td>0</td>\n",
       "      <td>0</td>\n",
       "      <td>0</td>\n",
       "      <td>0</td>\n",
       "      <td>...</td>\n",
       "      <td>0</td>\n",
       "      <td>0</td>\n",
       "      <td>0</td>\n",
       "      <td>0</td>\n",
       "      <td>0</td>\n",
       "      <td>0</td>\n",
       "      <td>0</td>\n",
       "      <td>0</td>\n",
       "      <td>0</td>\n",
       "      <td>0</td>\n",
       "    </tr>\n",
       "    <tr>\n",
       "      <th>16598</th>\n",
       "      <td>0375c_num1.png</td>\n",
       "      <td>0375c_num3.png</td>\n",
       "      <td>1</td>\n",
       "      <td>0</td>\n",
       "      <td>0</td>\n",
       "      <td>0</td>\n",
       "      <td>0</td>\n",
       "      <td>0</td>\n",
       "      <td>0</td>\n",
       "      <td>0</td>\n",
       "      <td>...</td>\n",
       "      <td>0</td>\n",
       "      <td>0</td>\n",
       "      <td>0</td>\n",
       "      <td>0</td>\n",
       "      <td>0</td>\n",
       "      <td>0</td>\n",
       "      <td>0</td>\n",
       "      <td>0</td>\n",
       "      <td>0</td>\n",
       "      <td>0</td>\n",
       "    </tr>\n",
       "    <tr>\n",
       "      <th>40160</th>\n",
       "      <td>0871b_num2.png</td>\n",
       "      <td>0871c_num3.png</td>\n",
       "      <td>1</td>\n",
       "      <td>0</td>\n",
       "      <td>0</td>\n",
       "      <td>1</td>\n",
       "      <td>0</td>\n",
       "      <td>0</td>\n",
       "      <td>0</td>\n",
       "      <td>0</td>\n",
       "      <td>...</td>\n",
       "      <td>0</td>\n",
       "      <td>0</td>\n",
       "      <td>0</td>\n",
       "      <td>0</td>\n",
       "      <td>0</td>\n",
       "      <td>0</td>\n",
       "      <td>0</td>\n",
       "      <td>0</td>\n",
       "      <td>0</td>\n",
       "      <td>0</td>\n",
       "    </tr>\n",
       "    <tr>\n",
       "      <th>69867</th>\n",
       "      <td>1519b_num2.png</td>\n",
       "      <td>1519b_num5.png</td>\n",
       "      <td>1</td>\n",
       "      <td>0</td>\n",
       "      <td>0</td>\n",
       "      <td>0</td>\n",
       "      <td>0</td>\n",
       "      <td>0</td>\n",
       "      <td>0</td>\n",
       "      <td>0</td>\n",
       "      <td>...</td>\n",
       "      <td>0</td>\n",
       "      <td>0</td>\n",
       "      <td>0</td>\n",
       "      <td>0</td>\n",
       "      <td>0</td>\n",
       "      <td>0</td>\n",
       "      <td>0</td>\n",
       "      <td>0</td>\n",
       "      <td>0</td>\n",
       "      <td>0</td>\n",
       "    </tr>\n",
       "  </tbody>\n",
       "</table>\n",
       "<p>5 rows × 1020 columns</p>\n",
       "</div>"
      ],
      "text/plain": [
       "             img_id_A        img_id_B  target  f1_A  f2_A  f3_A  f4_A  f5_A  \\\n",
       "38019  0828b_num1.png  0828c_num2.png       1     0     0     0     0     0   \n",
       "20954  0471b_num2.png  0471c_num1.png       1     0     0     0     0     0   \n",
       "16598  0375c_num1.png  0375c_num3.png       1     0     0     0     0     0   \n",
       "40160  0871b_num2.png  0871c_num3.png       1     0     0     1     0     0   \n",
       "69867  1519b_num2.png  1519b_num5.png       1     0     0     0     0     0   \n",
       "\n",
       "       f6_A  f7_A   ...    f503_B  f504_B  f505_B  f506_B  f507_B  f508_B  \\\n",
       "38019     0     0   ...         0       0       0       0       0       0   \n",
       "20954     0     0   ...         0       0       0       0       0       0   \n",
       "16598     0     0   ...         0       0       0       0       0       0   \n",
       "40160     0     0   ...         0       0       0       0       0       0   \n",
       "69867     0     0   ...         0       0       0       0       0       0   \n",
       "\n",
       "       f509_B  f510_B  f511_B  f512_B  \n",
       "38019       0       0       0       0  \n",
       "20954       0       0       0       0  \n",
       "16598       0       0       0       0  \n",
       "40160       0       0       0       0  \n",
       "69867       0       0       0       0  \n",
       "\n",
       "[5 rows x 1020 columns]"
      ]
     },
     "metadata": {},
     "output_type": "display_data"
    },
    {
     "name": "stdout",
     "output_type": "stream",
     "text": [
      "(142956, 1020)\n"
     ]
    },
    {
     "data": {
      "text/html": [
       "<div>\n",
       "<style scoped>\n",
       "    .dataframe tbody tr th:only-of-type {\n",
       "        vertical-align: middle;\n",
       "    }\n",
       "\n",
       "    .dataframe tbody tr th {\n",
       "        vertical-align: top;\n",
       "    }\n",
       "\n",
       "    .dataframe thead th {\n",
       "        text-align: right;\n",
       "    }\n",
       "</style>\n",
       "<table border=\"1\" class=\"dataframe\">\n",
       "  <thead>\n",
       "    <tr style=\"text-align: right;\">\n",
       "      <th></th>\n",
       "      <th>img_id_A</th>\n",
       "      <th>img_id_B</th>\n",
       "      <th>target</th>\n",
       "      <th>f1</th>\n",
       "      <th>f2</th>\n",
       "      <th>f3</th>\n",
       "      <th>f4</th>\n",
       "      <th>f5</th>\n",
       "      <th>f6</th>\n",
       "      <th>f7</th>\n",
       "      <th>...</th>\n",
       "      <th>f503</th>\n",
       "      <th>f504</th>\n",
       "      <th>f505</th>\n",
       "      <th>f506</th>\n",
       "      <th>f507</th>\n",
       "      <th>f508</th>\n",
       "      <th>f509</th>\n",
       "      <th>f510</th>\n",
       "      <th>f511</th>\n",
       "      <th>f512</th>\n",
       "    </tr>\n",
       "  </thead>\n",
       "  <tbody>\n",
       "    <tr>\n",
       "      <th>59659</th>\n",
       "      <td>1301a_num1.png</td>\n",
       "      <td>1304c_num4.png</td>\n",
       "      <td>0</td>\n",
       "      <td>0</td>\n",
       "      <td>0</td>\n",
       "      <td>1</td>\n",
       "      <td>0</td>\n",
       "      <td>0</td>\n",
       "      <td>0</td>\n",
       "      <td>0</td>\n",
       "      <td>...</td>\n",
       "      <td>0</td>\n",
       "      <td>1</td>\n",
       "      <td>0</td>\n",
       "      <td>0</td>\n",
       "      <td>0</td>\n",
       "      <td>0</td>\n",
       "      <td>0</td>\n",
       "      <td>0</td>\n",
       "      <td>0</td>\n",
       "      <td>0</td>\n",
       "    </tr>\n",
       "    <tr>\n",
       "      <th>18744</th>\n",
       "      <td>0413a_num1.png</td>\n",
       "      <td>0418b_num3.png</td>\n",
       "      <td>0</td>\n",
       "      <td>0</td>\n",
       "      <td>0</td>\n",
       "      <td>0</td>\n",
       "      <td>0</td>\n",
       "      <td>0</td>\n",
       "      <td>0</td>\n",
       "      <td>0</td>\n",
       "      <td>...</td>\n",
       "      <td>0</td>\n",
       "      <td>0</td>\n",
       "      <td>0</td>\n",
       "      <td>0</td>\n",
       "      <td>0</td>\n",
       "      <td>0</td>\n",
       "      <td>0</td>\n",
       "      <td>0</td>\n",
       "      <td>0</td>\n",
       "      <td>0</td>\n",
       "    </tr>\n",
       "    <tr>\n",
       "      <th>49513</th>\n",
       "      <td>1057aa_num2.png</td>\n",
       "      <td>1057cc_num1.png</td>\n",
       "      <td>1</td>\n",
       "      <td>1</td>\n",
       "      <td>1</td>\n",
       "      <td>0</td>\n",
       "      <td>0</td>\n",
       "      <td>0</td>\n",
       "      <td>0</td>\n",
       "      <td>0</td>\n",
       "      <td>...</td>\n",
       "      <td>0</td>\n",
       "      <td>0</td>\n",
       "      <td>0</td>\n",
       "      <td>0</td>\n",
       "      <td>0</td>\n",
       "      <td>0</td>\n",
       "      <td>0</td>\n",
       "      <td>0</td>\n",
       "      <td>0</td>\n",
       "      <td>0</td>\n",
       "    </tr>\n",
       "    <tr>\n",
       "      <th>60839</th>\n",
       "      <td>1325a_num1.png</td>\n",
       "      <td>1346a_num1.png</td>\n",
       "      <td>0</td>\n",
       "      <td>1</td>\n",
       "      <td>1</td>\n",
       "      <td>1</td>\n",
       "      <td>0</td>\n",
       "      <td>1</td>\n",
       "      <td>0</td>\n",
       "      <td>0</td>\n",
       "      <td>...</td>\n",
       "      <td>0</td>\n",
       "      <td>0</td>\n",
       "      <td>0</td>\n",
       "      <td>0</td>\n",
       "      <td>0</td>\n",
       "      <td>0</td>\n",
       "      <td>0</td>\n",
       "      <td>0</td>\n",
       "      <td>0</td>\n",
       "      <td>0</td>\n",
       "    </tr>\n",
       "    <tr>\n",
       "      <th>26793</th>\n",
       "      <td>0590a_num1.png</td>\n",
       "      <td>0601a_num1.png</td>\n",
       "      <td>0</td>\n",
       "      <td>1</td>\n",
       "      <td>0</td>\n",
       "      <td>0</td>\n",
       "      <td>0</td>\n",
       "      <td>0</td>\n",
       "      <td>0</td>\n",
       "      <td>1</td>\n",
       "      <td>...</td>\n",
       "      <td>0</td>\n",
       "      <td>0</td>\n",
       "      <td>0</td>\n",
       "      <td>0</td>\n",
       "      <td>0</td>\n",
       "      <td>0</td>\n",
       "      <td>0</td>\n",
       "      <td>0</td>\n",
       "      <td>0</td>\n",
       "      <td>0</td>\n",
       "    </tr>\n",
       "  </tbody>\n",
       "</table>\n",
       "<p>5 rows × 512 columns</p>\n",
       "</div>"
      ],
      "text/plain": [
       "              img_id_A         img_id_B  target  f1  f2  f3  f4  f5  f6  f7  \\\n",
       "59659   1301a_num1.png   1304c_num4.png       0   0   0   1   0   0   0   0   \n",
       "18744   0413a_num1.png   0418b_num3.png       0   0   0   0   0   0   0   0   \n",
       "49513  1057aa_num2.png  1057cc_num1.png       1   1   1   0   0   0   0   0   \n",
       "60839   1325a_num1.png   1346a_num1.png       0   1   1   1   0   1   0   0   \n",
       "26793   0590a_num1.png   0601a_num1.png       0   1   0   0   0   0   0   1   \n",
       "\n",
       "       ...   f503  f504  f505  f506  f507  f508  f509  f510  f511  f512  \n",
       "59659  ...      0     1     0     0     0     0     0     0     0     0  \n",
       "18744  ...      0     0     0     0     0     0     0     0     0     0  \n",
       "49513  ...      0     0     0     0     0     0     0     0     0     0  \n",
       "60839  ...      0     0     0     0     0     0     0     0     0     0  \n",
       "26793  ...      0     0     0     0     0     0     0     0     0     0  \n",
       "\n",
       "[5 rows x 512 columns]"
      ]
     },
     "metadata": {},
     "output_type": "display_data"
    },
    {
     "name": "stdout",
     "output_type": "stream",
     "text": [
      "(142956, 512)\n"
     ]
    }
   ],
   "source": [
    "start_time = time.time()\n",
    "create_GSC_dataset('./Inputs/GSC_same_pairs.csv', './Inputs/GSC_diffn_pairs.csv', './Inputs/GSC_features.csv')\n",
    "#On every Run, the order of the rows in the Dataset is randomized (different). This causes a different split in data.\n",
    "print(\"--- %s seconds ---\" % (time.time() - start_time))"
   ]
  },
  {
   "cell_type": "code",
   "execution_count": 10,
   "metadata": {},
   "outputs": [],
   "source": [
    "TrainingPercent = 80\n",
    "ValidationPercent = 10\n",
    "TestPercent = 10\n",
    "M = 10 #Number of (Clusters OR anchor points OR Radio Basis functions)\n",
    "PHI = [] #Stores design matrix. OR Matrix of all basis functions"
   ]
  },
  {
   "cell_type": "markdown",
   "metadata": {},
   "source": [
    "### Fetch and Prepare Dataset"
   ]
  },
  {
   "cell_type": "code",
   "execution_count": 83,
   "metadata": {},
   "outputs": [
    {
     "name": "stdout",
     "output_type": "stream",
     "text": [
      "--- 90.60344529151917 seconds ---\n"
     ]
    }
   ],
   "source": [
    "start_time = time.time()\n",
    "#RawTarget = GetTargetVector('./Inputs/HO_CTargets.csv')\n",
    "#RawData   = GenerateRawData('./Inputs/HO_CFeatures.csv')\n",
    "#RawTarget = GetTargetVector('./Inputs/HO_STargets.csv')\n",
    "#RawData   = GenerateRawData('./Inputs/HO_SFeatures.csv')\n",
    "#RawTarget = GetTargetVector('./Inputs/GSC_CTargets.csv')\n",
    "#RawData   = GenerateRawData('./Inputs/GSC_CFeatures.csv')\n",
    "RawTarget = GetTargetVector('./Inputs/GSC_STargets.csv')\n",
    "RawData   = GenerateRawData('./Inputs/GSC_SFeatures.csv')\n",
    "#RawData = RawData[:, (RawData != 0).any(axis=0)] #Deletes columns all of which are 0.\n",
    "RawData = RawData[~np.all(RawData == 0, axis=1)]  #Deletes rows all of which are 0.\n",
    "print(\"--- %s seconds ---\" % (time.time() - start_time))"
   ]
  },
  {
   "cell_type": "markdown",
   "metadata": {},
   "source": [
    "### Construct Training Data"
   ]
  },
  {
   "cell_type": "code",
   "execution_count": 84,
   "metadata": {},
   "outputs": [
    {
     "name": "stdout",
     "output_type": "stream",
     "text": [
      "(114339,)\n",
      "(509, 114339)\n"
     ]
    }
   ],
   "source": [
    "TrainingTarget = np.array(GenerateTrainingTarget(RawTarget,TrainingPercent))\n",
    "TrainingData   = GenerateTrainingDataMatrix(RawData,TrainingPercent)\n",
    "print(TrainingTarget.shape)\n",
    "print(TrainingData.shape)"
   ]
  },
  {
   "cell_type": "markdown",
   "metadata": {},
   "source": [
    "### Construct Validation Data"
   ]
  },
  {
   "cell_type": "code",
   "execution_count": 85,
   "metadata": {},
   "outputs": [
    {
     "name": "stdout",
     "output_type": "stream",
     "text": [
      "(14292,)\n",
      "(509, 14292)\n"
     ]
    }
   ],
   "source": [
    "ValDataAct = np.array(GenerateValTargetVector(RawTarget,ValidationPercent, (len(TrainingTarget))))\n",
    "ValData    = GenerateValData(RawData,ValidationPercent, (len(TrainingTarget)))\n",
    "print(ValDataAct.shape)\n",
    "print(ValData.shape)"
   ]
  },
  {
   "cell_type": "markdown",
   "metadata": {},
   "source": [
    "### Construct Test Data"
   ]
  },
  {
   "cell_type": "code",
   "execution_count": 86,
   "metadata": {},
   "outputs": [
    {
     "name": "stdout",
     "output_type": "stream",
     "text": [
      "(14291,)\n",
      "(509, 14291)\n"
     ]
    }
   ],
   "source": [
    "TestDataAct = np.array(GenerateValTargetVector(RawTarget,TestPercent, (len(TrainingTarget)+len(ValDataAct))))\n",
    "TestData = GenerateValData(RawData,TestPercent, (len(TrainingTarget)+len(ValDataAct)))\n",
    "print(TestDataAct.shape)\n",
    "print(TestData.shape)"
   ]
  },
  {
   "cell_type": "markdown",
   "metadata": {},
   "source": [
    "### Construct Design Matrix"
   ]
  },
  {
   "cell_type": "code",
   "execution_count": 68,
   "metadata": {},
   "outputs": [
    {
     "name": "stdout",
     "output_type": "stream",
     "text": [
      "--- 1131.6092052459717 seconds ---\n"
     ]
    }
   ],
   "source": [
    "start_time = time.time()\n",
    "kmeans = KMeans(n_clusters=M, random_state=0).fit(np.transpose(TrainingData)) #A very crucial step. Returns the entire training\n",
    "#data divided into M clusters using K-Means Clustering Algorithm\n",
    "Mu = kmeans.cluster_centers_ #Returns Centroids of M Clusters.\n",
    "\n",
    "BigSigma     = GenerateBigSigma(RawData, Mu, TrainingPercent)\n",
    "TRAINING_PHI = GetPhiMatrix(RawData, Mu, BigSigma, TrainingPercent)\n",
    "TEST_PHI     = GetPhiMatrix(TestData, Mu, BigSigma, 100)\n",
    "VAL_PHI      = GetPhiMatrix(ValData, Mu, BigSigma, 100)\n",
    "print(\"--- %s seconds ---\" % (time.time() - start_time))"
   ]
  },
  {
   "cell_type": "code",
   "execution_count": 69,
   "metadata": {},
   "outputs": [
    {
     "name": "stdout",
     "output_type": "stream",
     "text": [
      "(10, 509)\n",
      "(509, 509)\n",
      "(114339, 10)\n",
      "(14292, 10)\n",
      "(14291, 10)\n"
     ]
    }
   ],
   "source": [
    "print(Mu.shape)\n",
    "print(BigSigma.shape)\n",
    "print(TRAINING_PHI.shape)\n",
    "print(VAL_PHI.shape)\n",
    "print(TEST_PHI.shape)"
   ]
  },
  {
   "cell_type": "markdown",
   "metadata": {},
   "source": [
    "### Linear Regression using Gradient Descent Solution"
   ]
  },
  {
   "cell_type": "code",
   "execution_count": 70,
   "metadata": {},
   "outputs": [
    {
     "name": "stdout",
     "output_type": "stream",
     "text": [
      "--- 5.806060791015625 seconds ---\n"
     ]
    }
   ],
   "source": [
    "start_time = time.time()\n",
    "W_Now        = np.random.rand(M)\n",
    "#W_Now        = np.zeros(M)\n",
    "La           = 2\n",
    "learningRate = 0.001\n",
    "L_Erms_Val   = []\n",
    "L_Erms_TR    = []\n",
    "L_Erms_Test  = []\n",
    "A_Val        = []\n",
    "A_TR         = []\n",
    "A_Test       = []\n",
    "\n",
    "for i in range(0,len(TrainingData[0])):\n",
    "#for i in range(0,1000):\n",
    "    \n",
    "    Delta_E_D     = -np.dot((TrainingTarget[i] - np.dot(np.transpose(W_Now),TRAINING_PHI[i])),TRAINING_PHI[i])\n",
    "    La_Delta_E_W  = np.dot(La,W_Now)\n",
    "    Delta_E       = np.add(Delta_E_D,La_Delta_E_W) #Step by step updation of weights and Errors unlike Closed Form method.\n",
    "    Delta_W       = -np.dot(learningRate,Delta_E)\n",
    "    W_T_Next      = W_Now + Delta_W\n",
    "    W_Now         = W_T_Next\n",
    "\n",
    "    #-----------------TrainingData Accuracy---------------------#\n",
    "    TR_TEST_OUT   = GetValTest(TRAINING_PHI,W_Now) \n",
    "    Erms_TR       = GetErms(TR_TEST_OUT,TrainingTarget)\n",
    "    L_Erms_TR.append(float(Erms_TR.split(',')[1]))\n",
    "    A_TR.append(float(Erms_TR.split(',')[0]))\n",
    "\n",
    "    #-----------------ValidationData Accuracy---------------------#\n",
    "    VAL_TEST_OUT  = GetValTest(VAL_PHI,W_Now) \n",
    "    Erms_Val      = GetErms(VAL_TEST_OUT,ValDataAct)\n",
    "    L_Erms_Val.append(float(Erms_Val.split(',')[1]))\n",
    "    A_Val.append(float(Erms_Val.split(',')[0]))\n",
    "\n",
    "#-----------------TestingData Accuracy---------------------#\n",
    "TEST_OUT      = GetValTest(TEST_PHI,W_T_Next) \n",
    "Erms_Test = GetErms(TEST_OUT,TestDataAct)\n",
    "L_Erms_Test.append(float(Erms_Test.split(',')[1]))\n",
    "A_Test.append(float(Erms_Test.split(',')[0]))\n",
    "print(\"--- %s seconds ---\" % (time.time() - start_time))"
   ]
  },
  {
   "cell_type": "code",
   "execution_count": 97,
   "metadata": {},
   "outputs": [
    {
     "name": "stdout",
     "output_type": "stream",
     "text": [
      "UBITname      = animeshp\n",
      "Person Number = 50290441\n",
      "----------------------------------------------------\n",
      "-Linear Regression Using Gradient Descent Solution--\n",
      "----------------------------------------------------\n",
      "----------------------------------------------------\n",
      "M = 10\n",
      "Lambda = 2\n",
      "Learning Rate = 0.001\n",
      "E_rms Training   = 0.70761\n",
      "E_rms Validation = 0.70537\n",
      "E_rms Testing    = 0.70827\n",
      "Accuracy Training   = 49.92872%\n",
      "Accuracy Validation = 50.24489%\n",
      "Accuracy Testing    = 49.83556%\n"
     ]
    }
   ],
   "source": [
    "print ('UBITname      = animeshp')\n",
    "print ('Person Number = 50290441')\n",
    "print ('----------------------------------------------------')\n",
    "print ('-Linear Regression Using Gradient Descent Solution--')\n",
    "print ('----------------------------------------------------')\n",
    "print ('----------------------------------------------------')\n",
    "print (\"M = \"+str(M)+\"\\nLambda = \"+str(La)+\"\\nLearning Rate = \"+str(learningRate))\n",
    "print (\"E_rms Training   = \" + str(np.around(min(L_Erms_TR),5)))\n",
    "print (\"E_rms Validation = \" + str(np.around(min(L_Erms_Val),5)))\n",
    "print (\"E_rms Testing    = \" + str(np.around(min(L_Erms_Test),5)))\n",
    "print (\"Accuracy Training   = \" + str(np.around(max(A_TR),5))+\"%\")\n",
    "print (\"Accuracy Validation = \" + str(np.around(max(A_Val),5))+\"%\")\n",
    "print (\"Accuracy Testing    = \" + str(np.around(max(A_Test),5))+\"%\")"
   ]
  },
  {
   "cell_type": "markdown",
   "metadata": {},
   "source": [
    "### Logistic Regression using Gradient Descent Solution"
   ]
  },
  {
   "cell_type": "code",
   "execution_count": 72,
   "metadata": {},
   "outputs": [
    {
     "name": "stdout",
     "output_type": "stream",
     "text": [
      "--- 1309.7639381885529 seconds ---\n"
     ]
    }
   ],
   "source": [
    "#Initialize weight vector\n",
    "W_Now = np.random.rand(TrainingData.shape[0])\n",
    "start_time = time.time()\n",
    "#W_Now = np.zeros(TrainingData.shape[0])\n",
    "TrainAcc = []\n",
    "ValAcc = []\n",
    "\n",
    "learningRate = 0.001\n",
    "la = 2\n",
    "\n",
    "for i in range(0,len(TrainingData[0])):\n",
    "#for i in range(0,500):\n",
    "    #print(\"Loss for \" +str(i)+ \"epoch: \" +str(cost(W_Now, TrainingData.T, TrainingTarget)))\n",
    "    delta_W = gradient(W_Now, TrainingData.T, TrainingTarget)\n",
    "    La_delta_W  = np.dot(la, W_Now)\n",
    "    delta_W_Reg = np.add(delta_W, La_delta_W)\n",
    "    W_Next = W_Now - (np.dot(learningRate, delta_W_Reg))\n",
    "    W_Now = W_Next\n",
    "    \n",
    "    Y_Train_rounded = np.rint(sigmoid(np.matmul(TrainingData.T, W_Now)))\n",
    "    diff = np.subtract(Y_Train_rounded, TrainingTarget)\n",
    "    non_zeros = np.count_nonzero(diff)\n",
    "    accuracy = ((len(diff) - non_zeros)/len(diff))*100\n",
    "    TrainAcc.append(accuracy)\n",
    "\n",
    "    Y_Val_rounded = np.rint(sigmoid(np.matmul(ValData.T, W_Now)))\n",
    "    diff = np.subtract(Y_Val_rounded, ValDataAct)\n",
    "    non_zeros = np.count_nonzero(diff)\n",
    "    accuracy = ((len(diff) - non_zeros)/len(diff))*100\n",
    "    ValAcc.append(accuracy)\n",
    "\n",
    "Y_Test_rounded = np.rint(sigmoid(np.matmul(TestData.T, W_Now)))\n",
    "diff = np.subtract(Y_Test_rounded, TestDataAct)\n",
    "non_zeros = np.count_nonzero(diff)\n",
    "test_accuracy = ((len(diff) - non_zeros)/len(diff))*100\n",
    "\n",
    "print(\"--- %s seconds ---\" % (time.time() - start_time))"
   ]
  },
  {
   "cell_type": "code",
   "execution_count": 96,
   "metadata": {},
   "outputs": [
    {
     "name": "stdout",
     "output_type": "stream",
     "text": [
      "UBITname      = animeshp\n",
      "Person Number = 50290441\n",
      "----------------------------------------------------\n",
      "Logistic Regression Using Gradient Descent Solution-\n",
      "----------------------------------------------------\n",
      "----------------------------------------------------\n",
      "Regularizer = 2\n",
      "Learning Rate = 0.001\n",
      "Training Accuracy = 50.06866%\n",
      "Validation Accuracy = 49.75511%\n",
      "Test Data Observation Below:\n",
      "Errors: 7123  Correct :7168\n",
      "Testing Accuracy = 50.15744%\n"
     ]
    }
   ],
   "source": [
    "print ('UBITname      = animeshp')\n",
    "print ('Person Number = 50290441')\n",
    "print ('----------------------------------------------------')\n",
    "print ('Logistic Regression Using Gradient Descent Solution-')\n",
    "print ('----------------------------------------------------')\n",
    "print ('----------------------------------------------------')\n",
    "print (\"Regularizer = \"+str(la)+\"\\nLearning Rate = \"+str(learningRate))\n",
    "print (\"Training Accuracy = \" + str(np.around(max(TrainAcc),5))+\"%\")\n",
    "print (\"Validation Accuracy = \" + str(np.around(max(ValAcc),5))+\"%\")\n",
    "print(\"Test Data Observation Below:\")\n",
    "print(\"Errors: \" + str(non_zeros), \" Correct :\" + str(len(diff) - non_zeros))\n",
    "print (\"Testing Accuracy = \"+str(np.around(test_accuracy, 5))+\"%\")"
   ]
  },
  {
   "cell_type": "markdown",
   "metadata": {},
   "source": [
    "### Neural Network Model Definition"
   ]
  },
  {
   "cell_type": "code",
   "execution_count": 87,
   "metadata": {},
   "outputs": [],
   "source": [
    "import keras\n",
    "import keras.utils\n",
    "from keras.models import Sequential\n",
    "from keras.layers import Dense, Activation, Dropout\n",
    "from keras.callbacks import EarlyStopping, TensorBoard\n",
    "from keras import utils as np_utils\n",
    "from keras import optimizers\n",
    "\n",
    "input_size = TrainingData.shape[0]\n",
    "drop_out = 0.2                                                                                                                                                                                                                                                                                                                                      \n",
    "first_dense_layer_nodes  = 2048\n",
    "second_dense_layer_nodes = 512\n",
    "output_layer_nodes = 2\n",
    "\n",
    "def get_model():\n",
    "    \n",
    "    model = Sequential()\n",
    "    \n",
    "    model.add(Dense(first_dense_layer_nodes, input_dim=input_size, activation='relu'))   \n",
    "    model.add(Dropout(drop_out))\n",
    "    \n",
    "    model.add(Dense(second_dense_layer_nodes, activation='tanh'))\n",
    "    model.add(Dropout(drop_out))\n",
    "    \n",
    "    model.add(Dense(output_layer_nodes, activation='sigmoid'))\n",
    "    \n",
    "    keras.optimizers.rmsprop(lr=0.001, rho=0.9, epsilon=None, decay=0.0)\n",
    "    #sgd = optimizers.SGD(lr=0.01, decay=1e-6, momentum=0.9, nesterov=True)\n",
    "    \n",
    "    model.summary()\n",
    "    \n",
    "    model.compile(optimizer='rmsprop',\n",
    "                  loss='categorical_crossentropy',\n",
    "                  metrics=['accuracy'])\n",
    "    \n",
    "    return model"
   ]
  },
  {
   "cell_type": "code",
   "execution_count": 88,
   "metadata": {},
   "outputs": [
    {
     "name": "stdout",
     "output_type": "stream",
     "text": [
      "_________________________________________________________________\n",
      "Layer (type)                 Output Shape              Param #   \n",
      "=================================================================\n",
      "dense_4 (Dense)              (None, 2048)              1044480   \n",
      "_________________________________________________________________\n",
      "dropout_3 (Dropout)          (None, 2048)              0         \n",
      "_________________________________________________________________\n",
      "dense_5 (Dense)              (None, 512)               1049088   \n",
      "_________________________________________________________________\n",
      "dropout_4 (Dropout)          (None, 512)               0         \n",
      "_________________________________________________________________\n",
      "dense_6 (Dense)              (None, 2)                 1026      \n",
      "=================================================================\n",
      "Total params: 2,094,594\n",
      "Trainable params: 2,094,594\n",
      "Non-trainable params: 0\n",
      "_________________________________________________________________\n"
     ]
    }
   ],
   "source": [
    "model = get_model()"
   ]
  },
  {
   "cell_type": "markdown",
   "metadata": {},
   "source": [
    "### Run Neural Network Model"
   ]
  },
  {
   "cell_type": "code",
   "execution_count": 89,
   "metadata": {},
   "outputs": [
    {
     "name": "stdout",
     "output_type": "stream",
     "text": [
      "Train on 102904 samples, validate on 25727 samples\n",
      "Epoch 1/10000\n",
      "102904/102904 [==============================] - 122s 1ms/step - loss: 0.5721 - acc: 0.7155 - val_loss: 0.5268 - val_acc: 0.7697\n",
      "Epoch 2/10000\n",
      "102904/102904 [==============================] - 126s 1ms/step - loss: 0.4106 - acc: 0.8185 - val_loss: 0.3860 - val_acc: 0.8319\n",
      "Epoch 3/10000\n",
      "102904/102904 [==============================] - 123s 1ms/step - loss: 0.3292 - acc: 0.8597 - val_loss: 0.3715 - val_acc: 0.8442\n",
      "Epoch 4/10000\n",
      "102904/102904 [==============================] - 144s 1ms/step - loss: 0.2458 - acc: 0.8999 - val_loss: 0.3554 - val_acc: 0.8491\n",
      "Epoch 5/10000\n",
      "102904/102904 [==============================] - 121s 1ms/step - loss: 0.1688 - acc: 0.9341 - val_loss: 0.4120 - val_acc: 0.8518\n",
      "Epoch 6/10000\n",
      "102904/102904 [==============================] - 122s 1ms/step - loss: 0.1118 - acc: 0.9599 - val_loss: 0.4246 - val_acc: 0.8602\n",
      "Epoch 7/10000\n",
      "102904/102904 [==============================] - 126s 1ms/step - loss: 0.0772 - acc: 0.9727 - val_loss: 0.4928 - val_acc: 0.8475\n",
      "Epoch 8/10000\n",
      "102904/102904 [==============================] - 135s 1ms/step - loss: 0.0558 - acc: 0.9806 - val_loss: 0.5462 - val_acc: 0.8565\n",
      "Epoch 9/10000\n",
      "102904/102904 [==============================] - 137s 1ms/step - loss: 0.0436 - acc: 0.9847 - val_loss: 0.5463 - val_acc: 0.8564\n",
      "Epoch 10/10000\n",
      "102904/102904 [==============================] - 138s 1ms/step - loss: 0.0377 - acc: 0.9878 - val_loss: 0.5696 - val_acc: 0.8603\n",
      "Epoch 11/10000\n",
      "102904/102904 [==============================] - 134s 1ms/step - loss: 0.0286 - acc: 0.9901 - val_loss: 0.5548 - val_acc: 0.8585\n",
      "Epoch 12/10000\n",
      "102904/102904 [==============================] - 138s 1ms/step - loss: 0.0233 - acc: 0.9923 - val_loss: 0.8223 - val_acc: 0.8573\n",
      "Epoch 13/10000\n",
      "102904/102904 [==============================] - 145s 1ms/step - loss: 0.0125 - acc: 0.9963 - val_loss: 0.8358 - val_acc: 0.8604\n",
      "Epoch 14/10000\n",
      "102904/102904 [==============================] - 150s 1ms/step - loss: 0.0126 - acc: 0.9963 - val_loss: 0.8869 - val_acc: 0.8605\n",
      "Epoch 15/10000\n",
      "102904/102904 [==============================] - 145s 1ms/step - loss: 0.0062 - acc: 0.9982 - val_loss: 0.9558 - val_acc: 0.8596\n",
      "Epoch 16/10000\n",
      "102904/102904 [==============================] - 134s 1ms/step - loss: 0.0046 - acc: 0.9989 - val_loss: 0.9857 - val_acc: 0.8585\n",
      "Epoch 17/10000\n",
      "102904/102904 [==============================] - 130s 1ms/step - loss: 0.0045 - acc: 0.9989 - val_loss: 1.0359 - val_acc: 0.8598\n",
      "Epoch 18/10000\n",
      "102904/102904 [==============================] - 130s 1ms/step - loss: 0.0034 - acc: 0.9993 - val_loss: 1.1707 - val_acc: 0.8616\n",
      "Epoch 19/10000\n",
      "102904/102904 [==============================] - 130s 1ms/step - loss: 0.0305 - acc: 0.9904 - val_loss: 0.7129 - val_acc: 0.8563\n",
      "Epoch 20/10000\n",
      "102904/102904 [==============================] - 132s 1ms/step - loss: 0.0205 - acc: 0.9934 - val_loss: 0.7825 - val_acc: 0.8568\n",
      "Epoch 21/10000\n",
      "102904/102904 [==============================] - 130s 1ms/step - loss: 0.0078 - acc: 0.9976 - val_loss: 1.0394 - val_acc: 0.8583\n",
      "Epoch 22/10000\n",
      "102904/102904 [==============================] - 139s 1ms/step - loss: 0.0048 - acc: 0.9989 - val_loss: 1.0508 - val_acc: 0.8591\n",
      "Epoch 23/10000\n",
      "102904/102904 [==============================] - 133s 1ms/step - loss: 0.0038 - acc: 0.9990 - val_loss: 1.0475 - val_acc: 0.8553\n",
      "Epoch 24/10000\n",
      "102904/102904 [==============================] - 140s 1ms/step - loss: 0.0032 - acc: 0.9993 - val_loss: 1.2553 - val_acc: 0.8598\n",
      "Epoch 25/10000\n",
      "102904/102904 [==============================] - 142s 1ms/step - loss: 0.0029 - acc: 0.9995 - val_loss: 1.2093 - val_acc: 0.8609\n",
      "Epoch 26/10000\n",
      "102904/102904 [==============================] - 136s 1ms/step - loss: 0.0024 - acc: 0.9995 - val_loss: 1.1721 - val_acc: 0.8577\n",
      "Epoch 27/10000\n",
      "102904/102904 [==============================] - 144s 1ms/step - loss: 0.0021 - acc: 0.9995 - val_loss: 1.2507 - val_acc: 0.8594\n",
      "Epoch 28/10000\n",
      "102904/102904 [==============================] - 139s 1ms/step - loss: 0.0025 - acc: 0.9995 - val_loss: 1.2219 - val_acc: 0.8591\n",
      "Epoch 29/10000\n",
      "102904/102904 [==============================] - 139s 1ms/step - loss: 0.0021 - acc: 0.9996 - val_loss: 1.3322 - val_acc: 0.8587\n",
      "Epoch 30/10000\n",
      "102904/102904 [==============================] - 141s 1ms/step - loss: 0.0019 - acc: 0.9997 - val_loss: 1.3348 - val_acc: 0.8598\n",
      "Epoch 31/10000\n",
      "102904/102904 [==============================] - 139s 1ms/step - loss: 0.0015 - acc: 0.9997 - val_loss: 1.3669 - val_acc: 0.8584\n",
      "Epoch 32/10000\n",
      "102904/102904 [==============================] - 145s 1ms/step - loss: 0.0013 - acc: 0.9998 - val_loss: 1.4112 - val_acc: 0.8588\n",
      "Epoch 33/10000\n",
      "102904/102904 [==============================] - 141s 1ms/step - loss: 0.0015 - acc: 0.9997 - val_loss: 1.4046 - val_acc: 0.8607\n",
      "Epoch 34/10000\n",
      "102904/102904 [==============================] - 137s 1ms/step - loss: 0.0019 - acc: 0.9997 - val_loss: 1.3677 - val_acc: 0.8602\n",
      "Epoch 35/10000\n",
      "102904/102904 [==============================] - 143s 1ms/step - loss: 0.0015 - acc: 0.9998 - val_loss: 1.4020 - val_acc: 0.8603\n",
      "Epoch 36/10000\n",
      "102904/102904 [==============================] - 154s 2ms/step - loss: 0.0013 - acc: 0.9997 - val_loss: 1.4026 - val_acc: 0.8594\n",
      "Epoch 37/10000\n",
      "102904/102904 [==============================] - 149s 1ms/step - loss: 0.0014 - acc: 0.9998 - val_loss: 1.3681 - val_acc: 0.8580\n",
      "Epoch 38/10000\n",
      "102904/102904 [==============================] - 145s 1ms/step - loss: 0.0020 - acc: 0.9996 - val_loss: 1.3882 - val_acc: 0.8572\n",
      "Epoch 39/10000\n",
      "102904/102904 [==============================] - 149s 1ms/step - loss: 9.3683e-04 - acc: 0.9999 - val_loss: 1.6111 - val_acc: 0.8543\n",
      "Epoch 40/10000\n",
      "102904/102904 [==============================] - 149s 1ms/step - loss: 0.0014 - acc: 0.9998 - val_loss: 1.4390 - val_acc: 0.8596\n",
      "Epoch 41/10000\n",
      "102904/102904 [==============================] - 149s 1ms/step - loss: 0.0012 - acc: 0.9998 - val_loss: 1.5743 - val_acc: 0.8576\n",
      "Epoch 42/10000\n",
      "102904/102904 [==============================] - 149s 1ms/step - loss: 0.0016 - acc: 0.9997 - val_loss: 1.4990 - val_acc: 0.8596\n",
      "Epoch 43/10000\n",
      "102904/102904 [==============================] - 150s 1ms/step - loss: 0.0012 - acc: 0.9998 - val_loss: 1.5283 - val_acc: 0.8575\n",
      "Epoch 44/10000\n",
      "102904/102904 [==============================] - 149s 1ms/step - loss: 0.0012 - acc: 0.9998 - val_loss: 1.5823 - val_acc: 0.8574\n",
      "Epoch 45/10000\n",
      "102904/102904 [==============================] - 147s 1ms/step - loss: 0.0014 - acc: 0.9998 - val_loss: 1.5891 - val_acc: 0.8500\n",
      "Epoch 46/10000\n",
      "102904/102904 [==============================] - 148s 1ms/step - loss: 0.0014 - acc: 0.9997 - val_loss: 1.5834 - val_acc: 0.8549\n",
      "Epoch 47/10000\n",
      "102904/102904 [==============================] - 148s 1ms/step - loss: 0.0013 - acc: 0.9997 - val_loss: 1.5530 - val_acc: 0.8583\n",
      "Epoch 48/10000\n",
      "102904/102904 [==============================] - 149s 1ms/step - loss: 0.0012 - acc: 0.9998 - val_loss: 1.6046 - val_acc: 0.8549\n",
      "Epoch 49/10000\n",
      "102904/102904 [==============================] - 147s 1ms/step - loss: 0.0015 - acc: 0.9998 - val_loss: 1.5449 - val_acc: 0.8570\n",
      "Epoch 50/10000\n",
      "102904/102904 [==============================] - 149s 1ms/step - loss: 0.0011 - acc: 0.9998 - val_loss: 1.6045 - val_acc: 0.8600\n",
      "Epoch 51/10000\n",
      "102904/102904 [==============================] - 149s 1ms/step - loss: 0.0013 - acc: 0.9998 - val_loss: 1.6443 - val_acc: 0.8569\n",
      "Epoch 52/10000\n",
      "102904/102904 [==============================] - 151s 1ms/step - loss: 0.0014 - acc: 0.9998 - val_loss: 1.8516 - val_acc: 0.8365\n",
      "Epoch 53/10000\n",
      "102904/102904 [==============================] - 150s 1ms/step - loss: 7.8650e-04 - acc: 0.9999 - val_loss: 1.6874 - val_acc: 0.8599\n",
      "Epoch 54/10000\n",
      "102904/102904 [==============================] - 149s 1ms/step - loss: 0.0011 - acc: 0.9999 - val_loss: 1.6655 - val_acc: 0.8573\n",
      "Epoch 55/10000\n",
      "102904/102904 [==============================] - 153s 1ms/step - loss: 0.0014 - acc: 0.9998 - val_loss: 1.6437 - val_acc: 0.8570\n",
      "Epoch 56/10000\n",
      "102904/102904 [==============================] - 152s 1ms/step - loss: 0.0011 - acc: 0.9998 - val_loss: 1.6883 - val_acc: 0.8601\n",
      "Epoch 57/10000\n"
     ]
    },
    {
     "name": "stdout",
     "output_type": "stream",
     "text": [
      "102904/102904 [==============================] - 137s 1ms/step - loss: 0.0010 - acc: 0.9999 - val_loss: 1.7481 - val_acc: 0.8527\n",
      "Epoch 58/10000\n",
      "102904/102904 [==============================] - 136s 1ms/step - loss: 0.0011 - acc: 0.9999 - val_loss: 1.7074 - val_acc: 0.8591\n",
      "Epoch 59/10000\n",
      "102904/102904 [==============================] - 136s 1ms/step - loss: 9.2968e-04 - acc: 0.9999 - val_loss: 1.7544 - val_acc: 0.8546\n",
      "Epoch 60/10000\n",
      "102904/102904 [==============================] - 136s 1ms/step - loss: 7.6253e-04 - acc: 0.9999 - val_loss: 1.7187 - val_acc: 0.8558\n",
      "Epoch 61/10000\n",
      "102904/102904 [==============================] - 137s 1ms/step - loss: 0.0016 - acc: 0.9998 - val_loss: 1.7398 - val_acc: 0.8587\n",
      "Epoch 62/10000\n",
      "102904/102904 [==============================] - 136s 1ms/step - loss: 0.0012 - acc: 0.9998 - val_loss: 1.7025 - val_acc: 0.8571\n",
      "Epoch 63/10000\n",
      "102904/102904 [==============================] - 138s 1ms/step - loss: 0.0012 - acc: 0.9998 - val_loss: 1.7440 - val_acc: 0.8584\n",
      "Epoch 64/10000\n",
      "102904/102904 [==============================] - 138s 1ms/step - loss: 0.0011 - acc: 0.9999 - val_loss: 1.7628 - val_acc: 0.8591\n",
      "Epoch 65/10000\n",
      "102904/102904 [==============================] - 139s 1ms/step - loss: 0.0012 - acc: 0.9998 - val_loss: 1.8286 - val_acc: 0.8507\n",
      "Epoch 66/10000\n",
      "102904/102904 [==============================] - 138s 1ms/step - loss: 0.0013 - acc: 0.9998 - val_loss: 1.7592 - val_acc: 0.8559\n",
      "Epoch 67/10000\n",
      "102904/102904 [==============================] - 140s 1ms/step - loss: 0.0013 - acc: 0.9998 - val_loss: 1.7737 - val_acc: 0.8574\n",
      "Epoch 68/10000\n",
      "102904/102904 [==============================] - 139s 1ms/step - loss: 0.0012 - acc: 0.9999 - val_loss: 1.7495 - val_acc: 0.8560\n",
      "Epoch 69/10000\n",
      "102904/102904 [==============================] - 140s 1ms/step - loss: 0.0012 - acc: 0.9998 - val_loss: 1.7356 - val_acc: 0.8599\n",
      "Epoch 70/10000\n",
      "102904/102904 [==============================] - 139s 1ms/step - loss: 8.4490e-04 - acc: 0.9999 - val_loss: 1.7349 - val_acc: 0.8594\n",
      "Epoch 71/10000\n",
      "102904/102904 [==============================] - 141s 1ms/step - loss: 0.0015 - acc: 0.9998 - val_loss: 1.7930 - val_acc: 0.8522\n",
      "Epoch 72/10000\n",
      "102904/102904 [==============================] - 146s 1ms/step - loss: 0.0013 - acc: 0.9998 - val_loss: 1.8566 - val_acc: 0.8505\n",
      "Epoch 73/10000\n",
      "102904/102904 [==============================] - 142s 1ms/step - loss: 7.7412e-04 - acc: 0.9999 - val_loss: 1.8082 - val_acc: 0.8584\n",
      "Epoch 74/10000\n",
      "102904/102904 [==============================] - 148s 1ms/step - loss: 0.0010 - acc: 0.9999 - val_loss: 1.7827 - val_acc: 0.8593\n",
      "Epoch 75/10000\n",
      "102904/102904 [==============================] - 144s 1ms/step - loss: 0.0012 - acc: 0.9999 - val_loss: 1.8198 - val_acc: 0.8527\n",
      "Epoch 76/10000\n",
      "102904/102904 [==============================] - 142s 1ms/step - loss: 0.0011 - acc: 0.9999 - val_loss: 1.8419 - val_acc: 0.8575\n",
      "Epoch 77/10000\n",
      "102904/102904 [==============================] - 158s 2ms/step - loss: 7.7122e-04 - acc: 0.9999 - val_loss: 1.9124 - val_acc: 0.8507\n",
      "Epoch 78/10000\n",
      "102904/102904 [==============================] - 142s 1ms/step - loss: 9.3116e-04 - acc: 0.9999 - val_loss: 1.7887 - val_acc: 0.8569\n",
      "Epoch 79/10000\n",
      "102904/102904 [==============================] - 140s 1ms/step - loss: 7.6373e-04 - acc: 0.9999 - val_loss: 1.8299 - val_acc: 0.8561\n",
      "Epoch 80/10000\n",
      "102904/102904 [==============================] - 136s 1ms/step - loss: 7.5770e-04 - acc: 0.9999 - val_loss: 1.8543 - val_acc: 0.8547\n",
      "Epoch 81/10000\n",
      "102904/102904 [==============================] - 131s 1ms/step - loss: 9.3183e-04 - acc: 0.9999 - val_loss: 1.8974 - val_acc: 0.8527\n",
      "Epoch 82/10000\n",
      "102904/102904 [==============================] - 135s 1ms/step - loss: 8.4152e-04 - acc: 0.9999 - val_loss: 2.0253 - val_acc: 0.8408\n",
      "Epoch 83/10000\n",
      "102904/102904 [==============================] - 133s 1ms/step - loss: 9.1119e-04 - acc: 0.9999 - val_loss: 1.8354 - val_acc: 0.8605\n",
      "Epoch 84/10000\n",
      "102904/102904 [==============================] - 126s 1ms/step - loss: 7.4623e-04 - acc: 0.9999 - val_loss: 1.8773 - val_acc: 0.8560\n",
      "Epoch 85/10000\n",
      "102904/102904 [==============================] - 122s 1ms/step - loss: 8.1583e-04 - acc: 0.9999 - val_loss: 1.8495 - val_acc: 0.8566\n",
      "Epoch 86/10000\n",
      "102904/102904 [==============================] - 122s 1ms/step - loss: 8.3549e-04 - acc: 0.9999 - val_loss: 1.8229 - val_acc: 0.8569\n",
      "Epoch 87/10000\n",
      "102904/102904 [==============================] - 134s 1ms/step - loss: 9.6219e-04 - acc: 0.9999 - val_loss: 1.8566 - val_acc: 0.8567\n",
      "Epoch 88/10000\n",
      "102904/102904 [==============================] - 122s 1ms/step - loss: 7.0993e-04 - acc: 0.9999 - val_loss: 1.8267 - val_acc: 0.8584\n",
      "Epoch 89/10000\n",
      "102904/102904 [==============================] - 122s 1ms/step - loss: 7.8592e-04 - acc: 0.9999 - val_loss: 1.8345 - val_acc: 0.8575\n",
      "Epoch 90/10000\n",
      "102904/102904 [==============================] - 122s 1ms/step - loss: 9.2436e-04 - acc: 0.9999 - val_loss: 1.8537 - val_acc: 0.8570\n",
      "Epoch 91/10000\n",
      "102904/102904 [==============================] - 125s 1ms/step - loss: 8.3158e-04 - acc: 0.9999 - val_loss: 1.8963 - val_acc: 0.8588\n",
      "Epoch 92/10000\n",
      "102904/102904 [==============================] - 123s 1ms/step - loss: 8.2971e-04 - acc: 0.9999 - val_loss: 1.9824 - val_acc: 0.8468\n",
      "Epoch 93/10000\n",
      "102904/102904 [==============================] - 129s 1ms/step - loss: 6.4461e-04 - acc: 0.9999 - val_loss: 1.9071 - val_acc: 0.8532\n",
      "Epoch 94/10000\n",
      "102904/102904 [==============================] - 123s 1ms/step - loss: 6.5000e-04 - acc: 0.9999 - val_loss: 1.8739 - val_acc: 0.8580\n",
      "Epoch 95/10000\n",
      "102904/102904 [==============================] - 124s 1ms/step - loss: 9.5424e-04 - acc: 0.9999 - val_loss: 1.9713 - val_acc: 0.8499\n",
      "Epoch 96/10000\n",
      "102904/102904 [==============================] - 127s 1ms/step - loss: 7.8784e-04 - acc: 0.9999 - val_loss: 2.0437 - val_acc: 0.8444\n",
      "Epoch 97/10000\n",
      "102904/102904 [==============================] - 123s 1ms/step - loss: 7.8234e-04 - acc: 0.9999 - val_loss: 1.9819 - val_acc: 0.8474\n",
      "Epoch 98/10000\n",
      "102904/102904 [==============================] - 131s 1ms/step - loss: 8.1272e-04 - acc: 0.9999 - val_loss: 1.9651 - val_acc: 0.8488\n",
      "Epoch 99/10000\n",
      "102904/102904 [==============================] - 123s 1ms/step - loss: 6.9228e-04 - acc: 0.9999 - val_loss: 1.9009 - val_acc: 0.8552\n",
      "Epoch 100/10000\n",
      "102904/102904 [==============================] - 122s 1ms/step - loss: 8.2859e-04 - acc: 0.9999 - val_loss: 1.9862 - val_acc: 0.8495\n",
      "Epoch 101/10000\n",
      "102904/102904 [==============================] - 123s 1ms/step - loss: 6.9887e-04 - acc: 0.9999 - val_loss: 1.9062 - val_acc: 0.8574\n",
      "Epoch 102/10000\n",
      "102904/102904 [==============================] - 123s 1ms/step - loss: 8.6368e-04 - acc: 0.9999 - val_loss: 2.0541 - val_acc: 0.8459\n",
      "Epoch 103/10000\n",
      "102904/102904 [==============================] - 132s 1ms/step - loss: 7.9861e-04 - acc: 0.9999 - val_loss: 1.9589 - val_acc: 0.8527\n",
      "Epoch 104/10000\n",
      "102904/102904 [==============================] - 131s 1ms/step - loss: 0.0010 - acc: 0.9999 - val_loss: 1.9464 - val_acc: 0.8523\n",
      "Epoch 00104: early stopping\n"
     ]
    }
   ],
   "source": [
    "validation_data_split = 0.20 # 20% of the training data is reserved as Validation Dataset. \n",
    "num_epochs = 10000 # One complete learning of the training data is called an Epoch. \n",
    "model_batch_size = 128 # Number of data samples in each batch\n",
    "tb_batch_size = 32 \n",
    "early_patience = 100 #Number of epochs with no improvement after which training is stopped. Here Gradient descent is used to \n",
    "# determine the point of local minima where the derivative of the plot equalls zero.  \n",
    "\n",
    "tensorboard_cb   = TensorBoard(log_dir='logs', batch_size= tb_batch_size, write_graph= True)\n",
    "earlystopping_cb = EarlyStopping(monitor='val_loss', verbose=1, patience=early_patience, mode='min')\n",
    "\n",
    "concatenated_data = np.concatenate((TrainingData.T, ValData.T), axis=0)\n",
    "concatenated_targets = np.concatenate((TrainingTarget.T, ValDataAct.T), axis=0)\n",
    "\n",
    "concatenated_targets = np_utils.to_categorical(np.array(concatenated_targets),2)\n",
    "# Process Dataset \n",
    "history = model.fit(concatenated_data\n",
    "                    , concatenated_targets                         # Training occurs here\n",
    "                    , validation_split=validation_data_split\n",
    "                    , epochs=num_epochs\n",
    "                    , batch_size=model_batch_size\n",
    "                    , callbacks = [tensorboard_cb, earlystopping_cb]\n",
    "                   )"
   ]
  },
  {
   "cell_type": "code",
   "execution_count": 90,
   "metadata": {},
   "outputs": [
    {
     "data": {
      "text/plain": [
       "array([<matplotlib.axes._subplots.AxesSubplot object at 0x000001FF8AB64470>,\n",
       "       <matplotlib.axes._subplots.AxesSubplot object at 0x000001FF8B0565F8>,\n",
       "       <matplotlib.axes._subplots.AxesSubplot object at 0x000001FF8B0757B8>,\n",
       "       <matplotlib.axes._subplots.AxesSubplot object at 0x000001FF8AF9C978>],\n",
       "      dtype=object)"
      ]
     },
     "execution_count": 90,
     "metadata": {},
     "output_type": "execute_result"
    },
    {
     "data": {
      "image/png": "[encoded data removed]",
      "text/plain": [
       "<Figure size 720x1080 with 4 Axes>"
      ]
     },
     "metadata": {
      "needs_background": "light"
     },
     "output_type": "display_data"
    }
   ],
   "source": [
    "%matplotlib inline\n",
    "df = pd.DataFrame(history.history)\n",
    "df.plot(subplots=True, grid=True, figsize=(10,15))"
   ]
  },
  {
   "cell_type": "code",
   "execution_count": 91,
   "metadata": {},
   "outputs": [
    {
     "name": "stdout",
     "output_type": "stream",
     "text": [
      "Errors: 2076  Correct :12215\n",
      "Testing Accuracy: 85.47337\n"
     ]
    }
   ],
   "source": [
    "wrong   = 0\n",
    "right   = 0\n",
    "\n",
    "TestDataAct = np_utils.to_categorical(np.array(TestDataAct),2)\n",
    "for i,j in zip(TestData.T,TestDataAct):\n",
    "    y = model.predict(np.array(i).reshape(-1,TestData.shape[0])) # Here the model predicts classes of the test data.  \n",
    "    if j.argmax() == y.argmax():\n",
    "        right = right + 1 # Count Matches between predicted and processed values (Software 1.0 and 2.0) \n",
    "    else:\n",
    "        wrong = wrong + 1 # Count Mismatches\n",
    "\n",
    "print(\"Errors: \" + str(wrong), \" Correct :\" + str(right))\n",
    "\n",
    "print(\"Testing Accuracy: \" + str(np.around(right/(right+wrong)*100, 5)))"
   ]
  },
  {
   "cell_type": "code",
   "execution_count": 92,
   "metadata": {},
   "outputs": [
    {
     "data": {
      "text/plain": [
       "Text(0.5,0,'Datasets on Linear Regression')"
      ]
     },
     "execution_count": 92,
     "metadata": {},
     "output_type": "execute_result"
    },
    {
     "data": {
      "image/png": "[encoded data removed]",
      "text/plain": [
       "<Figure size 432x288 with 1 Axes>"
      ]
     },
     "metadata": {
      "needs_background": "light"
     },
     "output_type": "display_data"
    }
   ],
   "source": [
    "%matplotlib inline\n",
    "l = [0.65, 0.72, 0.70, 0.70]\n",
    "a = ['HOD_C','HOD_S','GSC_C','GSC_S']\n",
    "plt.plot(a,l)\n",
    "plt.ylabel('E(RMS) on Test Data')\n",
    "plt.xlabel('Datasets on Linear Regression')"
   ]
  },
  {
   "cell_type": "code",
   "execution_count": 93,
   "metadata": {},
   "outputs": [
    {
     "data": {
      "text/plain": [
       "Text(0.5,0,'Datasets on Linear Regression')"
      ]
     },
     "execution_count": 93,
     "metadata": {},
     "output_type": "execute_result"
    },
    {
     "data": {
      "image/png": "[encoded data removed]",
      "text/plain": [
       "<Figure size 432x288 with 1 Axes>"
      ]
     },
     "metadata": {
      "needs_background": "light"
     },
     "output_type": "display_data"
    }
   ],
   "source": [
    "%matplotlib inline\n",
    "l = [56.60, 46, 49.79, 49.83]\n",
    "a = ['HOD_C','HOD_S','GSC_C','GSC_S']\n",
    "plt.plot(a,l)\n",
    "plt.ylabel('Test Accuracy(%)')\n",
    "plt.xlabel('Datasets on Linear Regression')"
   ]
  },
  {
   "cell_type": "code",
   "execution_count": 94,
   "metadata": {},
   "outputs": [
    {
     "data": {
      "text/plain": [
       "Text(0.5,0,'Datasets on Logistic Regression')"
      ]
     },
     "execution_count": 94,
     "metadata": {},
     "output_type": "execute_result"
    },
    {
     "data": {
      "image/png": "[encoded data removed]",
      "text/plain": [
       "<Figure size 432x288 with 1 Axes>"
      ]
     },
     "metadata": {
      "needs_background": "light"
     },
     "output_type": "display_data"
    }
   ],
   "source": [
    "%matplotlib inline\n",
    "l = [58.49, 48.42, 50.20, 50.15]\n",
    "a = ['HOD_C','HOD_S','GSC_C','GSC_S']\n",
    "plt.plot(a,l)\n",
    "plt.ylabel('Test Accuracy(%)')\n",
    "plt.xlabel('Datasets on Logistic Regression')"
   ]
  },
  {
   "cell_type": "code",
   "execution_count": 95,
   "metadata": {},
   "outputs": [
    {
     "data": {
      "text/plain": [
       "Text(0.5,0,'Datasets on Neural Networks')"
      ]
     },
     "execution_count": 95,
     "metadata": {},
     "output_type": "execute_result"
    },
    {
     "data": {
      "image/png": "[encoded data removed]",
      "text/plain": [
       "<Figure size 432x288 with 1 Axes>"
      ]
     },
     "metadata": {
      "needs_background": "light"
     },
     "output_type": "display_data"
    }
   ],
   "source": [
    "%matplotlib inline\n",
    "l = [70.44, 65.40, 69, 86]\n",
    "a = ['HOD_C','HOD_S','GSC_C','GSC_S']\n",
    "plt.plot(a,l)\n",
    "plt.ylabel('Test Accuracy(%)')\n",
    "plt.xlabel('Datasets on Neural Networks')"
   ]
  }
 ],
 "metadata": {
  "kernelspec": {
   "display_name": "Python 3",
   "language": "python",
   "name": "python3"
  },
  "language_info": {
   "codemirror_mode": {
    "name": "ipython",
    "version": 3
   },
   "file_extension": ".py",
   "mimetype": "text/x-python",
   "name": "python",
   "nbconvert_exporter": "python",
   "pygments_lexer": "ipython3",
   "version": "3.6.6"
  }
 },
 "nbformat": 4,
 "nbformat_minor": 2
}
